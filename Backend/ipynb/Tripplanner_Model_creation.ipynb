{
  "nbformat": 4,
  "nbformat_minor": 0,
  "metadata": {
    "colab": {
      "provenance": []
    },
    "kernelspec": {
      "name": "python3",
      "display_name": "Python 3"
    },
    "language_info": {
      "name": "python"
    }
  },
  "cells": [
    {
      "cell_type": "code",
      "source": [
        "import pandas as pd\n",
        "from sklearn.feature_extraction.text import TfidfVectorizer\n",
        "from sklearn.metrics.pairwise import cosine_similarity\n",
        "df = pd.read_csv('/content/preprocessed2.csv')"
      ],
      "metadata": {
        "id": "FLMMFUpS6n_s"
      },
      "execution_count": 3,
      "outputs": []
    },
    {
      "cell_type": "code",
      "execution_count": 4,
      "metadata": {
        "colab": {
          "base_uri": "https://localhost:8080/"
        },
        "id": "6cKmWg915Jih",
        "outputId": "c6d8e61b-bffd-4184-cfa1-b253eb2cbcee"
      },
      "outputs": [
        {
          "output_type": "stream",
          "name": "stdout",
          "text": [
            "Model trained and checkpoint saved successfully!\n"
          ]
        }
      ],
      "source": [
        "\n",
        "import joblib\n",
        "\n",
        "class DestinationRecommendationModel:\n",
        "    def __init__(self):\n",
        "        self.model = None\n",
        "        self.df = None\n",
        "        self.tfidf_matrix = None\n",
        "        self.tfidf_vectorizer = None\n",
        "\n",
        "    def preprocess_data(self, data):\n",
        "        data['combined_features'] = data.apply(lambda x: ' '.join(x[['Traveler age', 'Traveler gender', 'Traveler nationality',\n",
        "                                                                     'Accommodation type','Transportation type', 'Budget']].astype(str)), axis=1)\n",
        "        return data\n",
        "\n",
        "    def train_model(self, data):\n",
        "        self.df = self.preprocess_data(data)\n",
        "        self.tfidf_vectorizer = TfidfVectorizer()\n",
        "        self.tfidf_matrix = self.tfidf_vectorizer.fit_transform(self.df['combined_features'])\n",
        "        self.model = cosine_similarity(self.tfidf_matrix, self.tfidf_matrix)\n",
        "\n",
        "    def save_checkpoint(self, filename):\n",
        "        joblib.dump((self.model, self.df, self.tfidf_matrix, self.tfidf_vectorizer), filename)\n",
        "\n",
        "    def load_checkpoint(self, filename):\n",
        "        self.model, self.df, self.tfidf_matrix, self.tfidf_vectorizer = joblib.load(filename)\n",
        "\n",
        "    def recommend_destination(self, user_preferences, top_n=5):\n",
        "        if self.model is None:\n",
        "            raise Exception(\"Model has not been trained or loaded.\")\n",
        "\n",
        "        # Extract the user preferences\n",
        "        user_features = ' '.join([str(value) for value in user_preferences.values()])\n",
        "        user_tfidf = self.tfidf_vectorizer.transform([user_features])\n",
        "\n",
        "        # Compute similarity between user preferences and destinations\n",
        "        user_destination_similarity = cosine_similarity(user_tfidf, self.tfidf_matrix)\n",
        "\n",
        "        sim_scores = user_destination_similarity[0]\n",
        "        sim_scores = list(enumerate(sim_scores))\n",
        "        sim_scores = sorted(sim_scores, key=lambda x: x[1], reverse=True)\n",
        "        sim_scores = sim_scores[:top_n]  # Consider top n destinations\n",
        "        trip_indices = [i[0] for i in sim_scores]\n",
        "\n",
        "        recommended_destinations = []\n",
        "        for index in trip_indices:\n",
        "            destination = self.df.iloc[index]\n",
        "            # Convert budget to float for comparison\n",
        "            budget = float(destination['Budget'])\n",
        "            # Check if the budget is within the user's budget\n",
        "            if budget <= user_preferences['Budget']:\n",
        "                recommended_destinations.append({\n",
        "                    'Destination': destination['Destination'],\n",
        "                    'Budget': budget\n",
        "                })\n",
        "                # Break if we have found enough recommendations\n",
        "                if len(recommended_destinations) == top_n:\n",
        "                    break\n",
        "        return recommended_destinations\n",
        "\n",
        "\n",
        "# Create or load the model\n",
        "model = DestinationRecommendationModel()\n",
        "\n",
        "# Check if there's a saved model checkpoint\n",
        "checkpoint_filename = 'destination_recommendation_checkpoint.pkl'\n",
        "try:\n",
        "    model.load_checkpoint(checkpoint_filename)\n",
        "    print(\"Model checkpoint loaded successfully!\")\n",
        "except:\n",
        "    # If no checkpoint found, train the model and save the checkpoint\n",
        "    model.train_model(df)\n",
        "    model.save_checkpoint(checkpoint_filename)\n",
        "    print(\"Model trained and checkpoint saved successfully!\")\n",
        "\n",
        "# Create form elements for user preferences\n",
        "# (Rest of the code remains the same)\n"
      ]
    }
  ]
}